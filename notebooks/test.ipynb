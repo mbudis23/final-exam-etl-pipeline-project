{
 "cells": [
  {
   "cell_type": "code",
   "execution_count": 1,
   "metadata": {},
   "outputs": [],
   "source": [
    "import pandas as pd"
   ]
  },
  {
   "cell_type": "code",
   "execution_count": 31,
   "metadata": {},
   "outputs": [],
   "source": [
    "df = pd.read_csv('../data-output/labelled_2024-11-20.csv')"
   ]
  },
  {
   "cell_type": "code",
   "execution_count": 41,
   "metadata": {},
   "outputs": [
    {
     "name": "stdout",
     "output_type": "stream",
     "text": [
      "ValueError: cannot convert float NaN to integer\n"
     ]
    },
    {
     "data": {
      "text/plain": [
       "array(['14K', '415', '13', '46', '23', '27', '3.1K', '182', '50', '37',\n",
       "       '14', '940', '43', '1.1K', '32', '44', '404', '15', '41', '26',\n",
       "       '11', '255', '273', '638', '378', '145', '493', '8', '8.5K', '635',\n",
       "       '87', '9', '363', '17', '1K', '162', '52', '55', '163', '1.8K',\n",
       "       '609', '70', '354', '24', '18', '76', '30', '2.6K', '25', '285',\n",
       "       '20', '47', '733', '226', '1.4K', '1.2K', '19', '7', '271', '60',\n",
       "       '115', '10', '12', '67', '36', '2', '251', '130', '1.3K', nan],\n",
       "      dtype=object)"
      ]
     },
     "execution_count": 41,
     "metadata": {},
     "output_type": "execute_result"
    }
   ],
   "source": [
    "convert_likes_to_integer(df, 'Views')\n",
    "df['Views'].unique()"
   ]
  },
  {
   "cell_type": "code",
   "execution_count": null,
   "metadata": {},
   "outputs": [
    {
     "name": "stdout",
     "output_type": "stream",
     "text": [
      "ValueError: cannot convert float NaN to integer\n",
      "ValueError: cannot convert float NaN to integer\n"
     ]
    }
   ],
   "source": [
    "import pandas as pd\n",
    "import numpy as np\n",
    "\n",
    "def convert_column_to_integer(df, column_name):\n",
    "    \"\"\"\n",
    "    Convert a column with values like '14K', '3.1K', '2M', or NaN to integers.\n",
    "\n",
    "    Parameters:\n",
    "    - df (pd.DataFrame): DataFrame containing the column to process.\n",
    "    - column_name (str): Name of the column to convert.\n",
    "\n",
    "    Returns:\n",
    "    - pd.DataFrame: The updated DataFrame with the column converted to integers.\n",
    "    \"\"\"\n",
    "    def convert_to_int(value):\n",
    "        \"\"\"Helper function to convert a single value to integer.\"\"\"\n",
    "        if pd.isna(value):  # Handle NaN values\n",
    "            return 0\n",
    "        if isinstance(value, str):\n",
    "            if value.endswith('K'):  # Handle 'K' suffix (thousands)\n",
    "                return int(float(value[:-1]) * 1000)\n",
    "            elif value.endswith('M'):  # Handle 'M' suffix (millions)\n",
    "                return int(float(value[:-1]) * 1000000)\n",
    "            elif value.replace('.', '', 1).isdigit():  # Handle pure numeric strings\n",
    "                return int(float(value))\n",
    "        elif isinstance(value, (int, float)):  # Handle numeric types\n",
    "            return int(value)\n",
    "        return 0  # Default fallback for unexpected values\n",
    "\n",
    "    try:\n",
    "        # Ensure the column exists\n",
    "        if column_name not in df.columns:\n",
    "            raise KeyError(f\"Column '{column_name}' does not exist in the DataFrame.\")\n",
    "        \n",
    "        # Apply conversion\n",
    "        df[column_name] = df[column_name].apply(convert_to_int)\n",
    "        print(f\"Successfully converted '{column_name}' to integers.\")\n",
    "    except KeyError as ke:\n",
    "        print(f\"KeyError: {ke}\")\n",
    "    except Exception as e:\n",
    "        print(f\"An unexpected error occurred: {e}\")\n",
    "    \n",
    "    return df"
   ]
  },
  {
   "cell_type": "code",
   "execution_count": 4,
   "metadata": {},
   "outputs": [
    {
     "name": "stdout",
     "output_type": "stream",
     "text": [
      "<class 'pandas.core.frame.DataFrame'>\n",
      "RangeIndex: 1056 entries, 0 to 1055\n",
      "Data columns (total 10 columns):\n",
      " #   Column      Non-Null Count  Dtype  \n",
      "---  ------      --------------  -----  \n",
      " 0   Text        1056 non-null   object \n",
      " 1   User        1056 non-null   object \n",
      " 2   Likes       423 non-null    float64\n",
      " 3   Reposts     192 non-null    float64\n",
      " 4   Views       1000 non-null   object \n",
      " 5   Status ID   1000 non-null   float64\n",
      " 6   Date        1056 non-null   object \n",
      " 7   Platform    1056 non-null   object \n",
      " 8   scraped_at  1056 non-null   object \n",
      " 9   Replies     56 non-null     float64\n",
      "dtypes: float64(4), object(6)\n",
      "memory usage: 82.6+ KB\n"
     ]
    }
   ],
   "source": [
    "df.info()"
   ]
  }
 ],
 "metadata": {
  "kernelspec": {
   "display_name": ".venv",
   "language": "python",
   "name": "python3"
  },
  "language_info": {
   "codemirror_mode": {
    "name": "ipython",
    "version": 3
   },
   "file_extension": ".py",
   "mimetype": "text/x-python",
   "name": "python",
   "nbconvert_exporter": "python",
   "pygments_lexer": "ipython3",
   "version": "3.12.3"
  }
 },
 "nbformat": 4,
 "nbformat_minor": 2
}
